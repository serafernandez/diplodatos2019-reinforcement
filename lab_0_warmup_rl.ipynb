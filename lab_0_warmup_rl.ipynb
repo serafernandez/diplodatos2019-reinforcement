{
 "cells": [
  {
   "cell_type": "markdown",
   "metadata": {},
   "source": [
    "# Notebook 0: Ejercicios de introducción en papel\n",
    "\n",
    "Curso Aprendizaje por Refuerzos, Diplomatura en Ciencia de Datos, Aprendizaje Automático y sus Aplicaciones\n",
    "\n",
    "FaMAF, 2019"
   ]
  },
  {
   "cell_type": "markdown",
   "metadata": {},
   "source": [
    "Dado el siguiente entorno*,\n",
    "\n",
    "![water_environment](images/warmup_environment.png)"
   ]
  },
  {
   "cell_type": "markdown",
   "metadata": {},
   "source": [
    "\\* entorno de ejemplo y preguntas basadas en curso de Aprendizaje Profundo por Refuerzos, dictado por Juan Gómez Romero en la Escuela de Ciencias Informáticas 2019 - UBA"
   ]
  },
  {
   "cell_type": "markdown",
   "metadata": {},
   "source": [
    "## Responder:\n",
    "\n",
    "1. ¿Cuál sería la política óptima?\n",
    "\n",
    "2. ¿Cuál sería el valor de $v(D)$ bajo la Política 1 (asumiendo $\\gamma=1$)?\n",
    "    \n",
    "    Política 1: El agente elige la primera acción posible de la siguiente lista: \\[Derecha, Arriba, Izquierda, Abajo]\n",
    "3. ¿Cuál sería la recompensa acumulada $G_t$ de un agente que, de acuerdo a su política de actuación, realiza el recorrido \n",
    "\n",
    "    \\[D, E, B, C\\] desde $S_t = D$, asumiendo $\\gamma=0.1$?\n",
    "\n",
    "4. ¿Cuál sería el valor de $q(B, ↓)$ bajo la Política 1, asumiendo $\\gamma=1$? "
   ]
  },
  {
   "cell_type": "markdown",
   "metadata": {},
   "source": [
    "1. La política óptima sería\n",
    "\n",
    "| Estado        | Acción        |\n",
    "| ------------- | ------------- |\n",
    "| (0,0)         | derecha  |\n",
    "| (0,1)         | derecha     |\n"
   ]
  },
  {
   "cell_type": "markdown",
   "metadata": {},
   "source": [
    "2. $\\nu$(D)= $\\nu$(D=<1,0>) = -5 -5 + 50 = 40"
   ]
  },
  {
   "cell_type": "markdown",
   "metadata": {},
   "source": [
    "3. La recompensa acumulada de $G_t$ realizando el recorrido \\[D, E, B, C\\] desde $S_t = D$, asumiendo $\\gamma=0.1$, siendo k=0,1,2:\n",
    "\n",
    "$G_t= \\sum \\gamma^k R_{t+k+1}= (-5) + (0.1)(-1)+(0.1)^2(50)=-4.6$"
   ]
  },
  {
   "cell_type": "markdown",
   "metadata": {},
   "source": [
    "4. $q(B, ↓)$ = -5 -5 + 50 = 40"
   ]
  },
  {
   "cell_type": "code",
   "execution_count": null,
   "metadata": {},
   "outputs": [],
   "source": []
  }
 ],
 "metadata": {
  "hide_input": false,
  "kernelspec": {
   "display_name": "Python 3",
   "language": "python",
   "name": "python3"
  },
  "language_info": {
   "codemirror_mode": {
    "name": "ipython",
    "version": 3
   },
   "file_extension": ".py",
   "mimetype": "text/x-python",
   "name": "python",
   "nbconvert_exporter": "python",
   "pygments_lexer": "ipython3",
   "version": "3.7.4"
  },
  "toc": {
   "base_numbering": 1,
   "nav_menu": {},
   "number_sections": true,
   "sideBar": true,
   "skip_h1_title": false,
   "title_cell": "Table of Contents",
   "title_sidebar": "Contents",
   "toc_cell": false,
   "toc_position": {},
   "toc_section_display": true,
   "toc_window_display": false
  },
  "varInspector": {
   "cols": {
    "lenName": 16,
    "lenType": 16,
    "lenVar": 40
   },
   "kernels_config": {
    "python": {
     "delete_cmd_postfix": "",
     "delete_cmd_prefix": "del ",
     "library": "var_list.py",
     "varRefreshCmd": "print(var_dic_list())"
    },
    "r": {
     "delete_cmd_postfix": ") ",
     "delete_cmd_prefix": "rm(",
     "library": "var_list.r",
     "varRefreshCmd": "cat(var_dic_list()) "
    }
   },
   "types_to_exclude": [
    "module",
    "function",
    "builtin_function_or_method",
    "instance",
    "_Feature"
   ],
   "window_display": false
  }
 },
 "nbformat": 4,
 "nbformat_minor": 2
}
